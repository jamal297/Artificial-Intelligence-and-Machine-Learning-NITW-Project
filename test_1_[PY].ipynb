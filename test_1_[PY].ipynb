{
  "nbformat": 4,
  "nbformat_minor": 0,
  "metadata": {
    "colab": {
      "provenance": []
    },
    "kernelspec": {
      "name": "python3",
      "display_name": "Python 3"
    },
    "language_info": {
      "name": "python"
    }
  },
  "cells": [
    {
      "cell_type": "markdown",
      "source": [
        "# Python for AI-ML assignment[test-1]"
      ],
      "metadata": {
        "id": "w_O5M4Hm-cCv"
      }
    },
    {
      "cell_type": "markdown",
      "source": [
        "Data-set description\n",
        "\n",
        "A Cab booking company wanted to analyze the dataset they have in order to gain more insights. They the number of cabs booked each hour along with some environment features. Here is the following list of data elements present in the data:\n",
        ".\n",
        ".\n",
        ".\n",
        ".\n",
        ".\n",
        ".\n",
        ".\n",
        ".\n",
        ".\n",
        "\n",
        "Datetime: Date and time\n",
        "Season: Season value, e.g., summer, winter, etc.\n",
        "Holiday: Whether it is a holiday or not,\n",
        "Workingday: Whether it is a working day or not\n",
        "Weather: What is the weather that day, e.g., Clear, cloudy, rain, etc. \n",
        "Temp: What is the temperature value\n",
        "Atemp: Feel like temperature\n",
        "Humidity: Humidity value \n",
        "Windspeed: wind speed value\n",
        "Total_booking: Number of cab bookings in that hour"
      ],
      "metadata": {
        "id": "j4NJefYr_C3M"
      }
    },
    {
      "cell_type": "code",
      "source": [
        "#   <--------------------QUESTION-1-------------------->"
      ],
      "metadata": {
        "id": "ucpBdPFW-sXa"
      },
      "execution_count": null,
      "outputs": []
    },
    {
      "cell_type": "markdown",
      "source": [
        "Question 1: [15 Marks]\n",
        "\n",
        "Feature Engineering: Create following features from the column “Datetime” and append it in the same dataframe\n",
        "\n",
        " \n",
        "\n",
        "1) Hour: Hour in the datetime, e.g., datetime = 5/2/2012 19:00, hour = 19\n",
        "\n",
        "2) weekday: e.g., datetime = 5/2/2012 19:00, weekday = Wednesday\n",
        "\n",
        "3) Month: e.g., datetime = 5/2/2012 19:00, Month = May\n",
        "\n",
        "4) date: e.g., datetime = 5/2/2012 19:00, date = 5/2/2012\n",
        "\n",
        "Write the output of this question in 'output/output1.csv'\n",
        "\n",
        " "
      ],
      "metadata": {
        "id": "q-onDzay-6iH"
      }
    },
    {
      "cell_type": "code",
      "source": [
        "#-> Importing_google drive\n",
        "from google.colab import drive\n",
        "drive.mount('/content/drive')"
      ],
      "metadata": {
        "colab": {
          "base_uri": "https://localhost:8080/"
        },
        "id": "B4nQCsel_mK6",
        "outputId": "77ff425d-edde-4a09-b1bd-bcb9de64ea4e"
      },
      "execution_count": null,
      "outputs": [
        {
          "output_type": "stream",
          "name": "stdout",
          "text": [
            "Mounted at /content/drive\n"
          ]
        }
      ]
    },
    {
      "cell_type": "markdown",
      "source": [
        "#   <--------------------solution-1-------------------->\n"
      ],
      "metadata": {
        "id": "jEzsZAwV_wc2"
      }
    },
    {
      "cell_type": "code",
      "source": [
        "#-> Importing Libraries\n",
        "import numpy as np         #-> Mathematical operations  \n",
        "import pandas as pd        #-> Data manipulation\n",
        "from matplotlib import pyplot as plt     #-> Visualization\n",
        "import seaborn as sns                    #-> Visualization\n",
        "from sklearn.model_selection import train_test_split           # Splitting data into training and testing"
      ],
      "metadata": {
        "id": "24S0wjbCB85C"
      },
      "execution_count": null,
      "outputs": []
    },
    {
      "cell_type": "code",
      "source": [
        "#-> Load data-set\n",
        "data=pd.read_csv('/content/drive/MyDrive/my kaggle/date-time/train-_10_.csv')"
      ],
      "metadata": {
        "id": "Pbm_2kC9ADvm"
      },
      "execution_count": null,
      "outputs": []
    },
    {
      "cell_type": "code",
      "source": [
        "#-> Display top of data-set\n",
        "data.head()"
      ],
      "metadata": {
        "colab": {
          "base_uri": "https://localhost:8080/",
          "height": 206
        },
        "id": "JkCz8RtPA9Cv",
        "outputId": "1e772162-65ed-4e21-cf58-bd1146a15a21"
      },
      "execution_count": null,
      "outputs": [
        {
          "output_type": "execute_result",
          "data": {
            "text/plain": [
              "           datetime  season  holiday  workingday              weather   temp  \\\n",
              "0    5/2/2012 19:00  Summer        0           1   Clear + Few clouds  22.14   \n",
              "1     9/5/2012 4:00    Fall        0           1   Clear + Few clouds  28.70   \n",
              "2    1/13/2011 9:00  Spring        0           1   Clear + Few clouds   5.74   \n",
              "3  11/18/2011 16:00  Winter        0           1   Clear + Few clouds  13.94   \n",
              "4   9/13/2011 13:00    Fall        0           1   Clear + Few clouds  30.34   \n",
              "\n",
              "    atemp  humidity  windspeed  Total_booking  \n",
              "0  25.760        77    16.9979            504  \n",
              "1  33.335        79    19.0012              5  \n",
              "2   6.060        50    22.0028            139  \n",
              "3  16.665        29     8.9981            209  \n",
              "4  33.335        51    19.0012            184  "
            ],
            "text/html": [
              "\n",
              "  <div id=\"df-ce4ce840-b277-4026-baf3-52371324eba2\">\n",
              "    <div class=\"colab-df-container\">\n",
              "      <div>\n",
              "<style scoped>\n",
              "    .dataframe tbody tr th:only-of-type {\n",
              "        vertical-align: middle;\n",
              "    }\n",
              "\n",
              "    .dataframe tbody tr th {\n",
              "        vertical-align: top;\n",
              "    }\n",
              "\n",
              "    .dataframe thead th {\n",
              "        text-align: right;\n",
              "    }\n",
              "</style>\n",
              "<table border=\"1\" class=\"dataframe\">\n",
              "  <thead>\n",
              "    <tr style=\"text-align: right;\">\n",
              "      <th></th>\n",
              "      <th>datetime</th>\n",
              "      <th>season</th>\n",
              "      <th>holiday</th>\n",
              "      <th>workingday</th>\n",
              "      <th>weather</th>\n",
              "      <th>temp</th>\n",
              "      <th>atemp</th>\n",
              "      <th>humidity</th>\n",
              "      <th>windspeed</th>\n",
              "      <th>Total_booking</th>\n",
              "    </tr>\n",
              "  </thead>\n",
              "  <tbody>\n",
              "    <tr>\n",
              "      <th>0</th>\n",
              "      <td>5/2/2012 19:00</td>\n",
              "      <td>Summer</td>\n",
              "      <td>0</td>\n",
              "      <td>1</td>\n",
              "      <td>Clear + Few clouds</td>\n",
              "      <td>22.14</td>\n",
              "      <td>25.760</td>\n",
              "      <td>77</td>\n",
              "      <td>16.9979</td>\n",
              "      <td>504</td>\n",
              "    </tr>\n",
              "    <tr>\n",
              "      <th>1</th>\n",
              "      <td>9/5/2012 4:00</td>\n",
              "      <td>Fall</td>\n",
              "      <td>0</td>\n",
              "      <td>1</td>\n",
              "      <td>Clear + Few clouds</td>\n",
              "      <td>28.70</td>\n",
              "      <td>33.335</td>\n",
              "      <td>79</td>\n",
              "      <td>19.0012</td>\n",
              "      <td>5</td>\n",
              "    </tr>\n",
              "    <tr>\n",
              "      <th>2</th>\n",
              "      <td>1/13/2011 9:00</td>\n",
              "      <td>Spring</td>\n",
              "      <td>0</td>\n",
              "      <td>1</td>\n",
              "      <td>Clear + Few clouds</td>\n",
              "      <td>5.74</td>\n",
              "      <td>6.060</td>\n",
              "      <td>50</td>\n",
              "      <td>22.0028</td>\n",
              "      <td>139</td>\n",
              "    </tr>\n",
              "    <tr>\n",
              "      <th>3</th>\n",
              "      <td>11/18/2011 16:00</td>\n",
              "      <td>Winter</td>\n",
              "      <td>0</td>\n",
              "      <td>1</td>\n",
              "      <td>Clear + Few clouds</td>\n",
              "      <td>13.94</td>\n",
              "      <td>16.665</td>\n",
              "      <td>29</td>\n",
              "      <td>8.9981</td>\n",
              "      <td>209</td>\n",
              "    </tr>\n",
              "    <tr>\n",
              "      <th>4</th>\n",
              "      <td>9/13/2011 13:00</td>\n",
              "      <td>Fall</td>\n",
              "      <td>0</td>\n",
              "      <td>1</td>\n",
              "      <td>Clear + Few clouds</td>\n",
              "      <td>30.34</td>\n",
              "      <td>33.335</td>\n",
              "      <td>51</td>\n",
              "      <td>19.0012</td>\n",
              "      <td>184</td>\n",
              "    </tr>\n",
              "  </tbody>\n",
              "</table>\n",
              "</div>\n",
              "      <button class=\"colab-df-convert\" onclick=\"convertToInteractive('df-ce4ce840-b277-4026-baf3-52371324eba2')\"\n",
              "              title=\"Convert this dataframe to an interactive table.\"\n",
              "              style=\"display:none;\">\n",
              "        \n",
              "  <svg xmlns=\"http://www.w3.org/2000/svg\" height=\"24px\"viewBox=\"0 0 24 24\"\n",
              "       width=\"24px\">\n",
              "    <path d=\"M0 0h24v24H0V0z\" fill=\"none\"/>\n",
              "    <path d=\"M18.56 5.44l.94 2.06.94-2.06 2.06-.94-2.06-.94-.94-2.06-.94 2.06-2.06.94zm-11 1L8.5 8.5l.94-2.06 2.06-.94-2.06-.94L8.5 2.5l-.94 2.06-2.06.94zm10 10l.94 2.06.94-2.06 2.06-.94-2.06-.94-.94-2.06-.94 2.06-2.06.94z\"/><path d=\"M17.41 7.96l-1.37-1.37c-.4-.4-.92-.59-1.43-.59-.52 0-1.04.2-1.43.59L10.3 9.45l-7.72 7.72c-.78.78-.78 2.05 0 2.83L4 21.41c.39.39.9.59 1.41.59.51 0 1.02-.2 1.41-.59l7.78-7.78 2.81-2.81c.8-.78.8-2.07 0-2.86zM5.41 20L4 18.59l7.72-7.72 1.47 1.35L5.41 20z\"/>\n",
              "  </svg>\n",
              "      </button>\n",
              "      \n",
              "  <style>\n",
              "    .colab-df-container {\n",
              "      display:flex;\n",
              "      flex-wrap:wrap;\n",
              "      gap: 12px;\n",
              "    }\n",
              "\n",
              "    .colab-df-convert {\n",
              "      background-color: #E8F0FE;\n",
              "      border: none;\n",
              "      border-radius: 50%;\n",
              "      cursor: pointer;\n",
              "      display: none;\n",
              "      fill: #1967D2;\n",
              "      height: 32px;\n",
              "      padding: 0 0 0 0;\n",
              "      width: 32px;\n",
              "    }\n",
              "\n",
              "    .colab-df-convert:hover {\n",
              "      background-color: #E2EBFA;\n",
              "      box-shadow: 0px 1px 2px rgba(60, 64, 67, 0.3), 0px 1px 3px 1px rgba(60, 64, 67, 0.15);\n",
              "      fill: #174EA6;\n",
              "    }\n",
              "\n",
              "    [theme=dark] .colab-df-convert {\n",
              "      background-color: #3B4455;\n",
              "      fill: #D2E3FC;\n",
              "    }\n",
              "\n",
              "    [theme=dark] .colab-df-convert:hover {\n",
              "      background-color: #434B5C;\n",
              "      box-shadow: 0px 1px 3px 1px rgba(0, 0, 0, 0.15);\n",
              "      filter: drop-shadow(0px 1px 2px rgba(0, 0, 0, 0.3));\n",
              "      fill: #FFFFFF;\n",
              "    }\n",
              "  </style>\n",
              "\n",
              "      <script>\n",
              "        const buttonEl =\n",
              "          document.querySelector('#df-ce4ce840-b277-4026-baf3-52371324eba2 button.colab-df-convert');\n",
              "        buttonEl.style.display =\n",
              "          google.colab.kernel.accessAllowed ? 'block' : 'none';\n",
              "\n",
              "        async function convertToInteractive(key) {\n",
              "          const element = document.querySelector('#df-ce4ce840-b277-4026-baf3-52371324eba2');\n",
              "          const dataTable =\n",
              "            await google.colab.kernel.invokeFunction('convertToInteractive',\n",
              "                                                     [key], {});\n",
              "          if (!dataTable) return;\n",
              "\n",
              "          const docLinkHtml = 'Like what you see? Visit the ' +\n",
              "            '<a target=\"_blank\" href=https://colab.research.google.com/notebooks/data_table.ipynb>data table notebook</a>'\n",
              "            + ' to learn more about interactive tables.';\n",
              "          element.innerHTML = '';\n",
              "          dataTable['output_type'] = 'display_data';\n",
              "          await google.colab.output.renderOutput(dataTable, element);\n",
              "          const docLink = document.createElement('div');\n",
              "          docLink.innerHTML = docLinkHtml;\n",
              "          element.appendChild(docLink);\n",
              "        }\n",
              "      </script>\n",
              "    </div>\n",
              "  </div>\n",
              "  "
            ]
          },
          "metadata": {},
          "execution_count": 18
        }
      ]
    },
    {
      "cell_type": "code",
      "source": [
        "#-> Display bottom of data-set\n",
        "data.tail()"
      ],
      "metadata": {
        "colab": {
          "base_uri": "https://localhost:8080/",
          "height": 206
        },
        "id": "6YVecteeA_1j",
        "outputId": "bd8c5818-20e9-46fe-e76a-eb89736d8aef"
      },
      "execution_count": null,
      "outputs": [
        {
          "output_type": "execute_result",
          "data": {
            "text/plain": [
              "             datetime  season  holiday  workingday              weather  \\\n",
              "8703   1/16/2012 6:00  Spring        1           0   Clear + Few clouds   \n",
              "8704  11/10/2011 1:00  Winter        0           1       Mist + Cloudy    \n",
              "8705   4/12/2011 3:00  Summer        0           1       Mist + Cloudy    \n",
              "8706   11/7/2012 1:00  Winter        0           1       Mist + Cloudy    \n",
              "8707  1/10/2011 10:00  Spring        0           1       Mist + Cloudy    \n",
              "\n",
              "       temp   atemp  humidity  windspeed  Total_booking  \n",
              "8703   4.10   6.820        54     6.0032             13  \n",
              "8704  16.40  20.455        87     0.0000             11  \n",
              "8705  23.78  27.275        56     8.9981              1  \n",
              "8706  11.48  13.635        61    16.9979             92  \n",
              "8707   5.74   6.060        50    19.9995             31  "
            ],
            "text/html": [
              "\n",
              "  <div id=\"df-3c220566-6db4-4e7d-92c6-f397d0206e35\">\n",
              "    <div class=\"colab-df-container\">\n",
              "      <div>\n",
              "<style scoped>\n",
              "    .dataframe tbody tr th:only-of-type {\n",
              "        vertical-align: middle;\n",
              "    }\n",
              "\n",
              "    .dataframe tbody tr th {\n",
              "        vertical-align: top;\n",
              "    }\n",
              "\n",
              "    .dataframe thead th {\n",
              "        text-align: right;\n",
              "    }\n",
              "</style>\n",
              "<table border=\"1\" class=\"dataframe\">\n",
              "  <thead>\n",
              "    <tr style=\"text-align: right;\">\n",
              "      <th></th>\n",
              "      <th>datetime</th>\n",
              "      <th>season</th>\n",
              "      <th>holiday</th>\n",
              "      <th>workingday</th>\n",
              "      <th>weather</th>\n",
              "      <th>temp</th>\n",
              "      <th>atemp</th>\n",
              "      <th>humidity</th>\n",
              "      <th>windspeed</th>\n",
              "      <th>Total_booking</th>\n",
              "    </tr>\n",
              "  </thead>\n",
              "  <tbody>\n",
              "    <tr>\n",
              "      <th>8703</th>\n",
              "      <td>1/16/2012 6:00</td>\n",
              "      <td>Spring</td>\n",
              "      <td>1</td>\n",
              "      <td>0</td>\n",
              "      <td>Clear + Few clouds</td>\n",
              "      <td>4.10</td>\n",
              "      <td>6.820</td>\n",
              "      <td>54</td>\n",
              "      <td>6.0032</td>\n",
              "      <td>13</td>\n",
              "    </tr>\n",
              "    <tr>\n",
              "      <th>8704</th>\n",
              "      <td>11/10/2011 1:00</td>\n",
              "      <td>Winter</td>\n",
              "      <td>0</td>\n",
              "      <td>1</td>\n",
              "      <td>Mist + Cloudy</td>\n",
              "      <td>16.40</td>\n",
              "      <td>20.455</td>\n",
              "      <td>87</td>\n",
              "      <td>0.0000</td>\n",
              "      <td>11</td>\n",
              "    </tr>\n",
              "    <tr>\n",
              "      <th>8705</th>\n",
              "      <td>4/12/2011 3:00</td>\n",
              "      <td>Summer</td>\n",
              "      <td>0</td>\n",
              "      <td>1</td>\n",
              "      <td>Mist + Cloudy</td>\n",
              "      <td>23.78</td>\n",
              "      <td>27.275</td>\n",
              "      <td>56</td>\n",
              "      <td>8.9981</td>\n",
              "      <td>1</td>\n",
              "    </tr>\n",
              "    <tr>\n",
              "      <th>8706</th>\n",
              "      <td>11/7/2012 1:00</td>\n",
              "      <td>Winter</td>\n",
              "      <td>0</td>\n",
              "      <td>1</td>\n",
              "      <td>Mist + Cloudy</td>\n",
              "      <td>11.48</td>\n",
              "      <td>13.635</td>\n",
              "      <td>61</td>\n",
              "      <td>16.9979</td>\n",
              "      <td>92</td>\n",
              "    </tr>\n",
              "    <tr>\n",
              "      <th>8707</th>\n",
              "      <td>1/10/2011 10:00</td>\n",
              "      <td>Spring</td>\n",
              "      <td>0</td>\n",
              "      <td>1</td>\n",
              "      <td>Mist + Cloudy</td>\n",
              "      <td>5.74</td>\n",
              "      <td>6.060</td>\n",
              "      <td>50</td>\n",
              "      <td>19.9995</td>\n",
              "      <td>31</td>\n",
              "    </tr>\n",
              "  </tbody>\n",
              "</table>\n",
              "</div>\n",
              "      <button class=\"colab-df-convert\" onclick=\"convertToInteractive('df-3c220566-6db4-4e7d-92c6-f397d0206e35')\"\n",
              "              title=\"Convert this dataframe to an interactive table.\"\n",
              "              style=\"display:none;\">\n",
              "        \n",
              "  <svg xmlns=\"http://www.w3.org/2000/svg\" height=\"24px\"viewBox=\"0 0 24 24\"\n",
              "       width=\"24px\">\n",
              "    <path d=\"M0 0h24v24H0V0z\" fill=\"none\"/>\n",
              "    <path d=\"M18.56 5.44l.94 2.06.94-2.06 2.06-.94-2.06-.94-.94-2.06-.94 2.06-2.06.94zm-11 1L8.5 8.5l.94-2.06 2.06-.94-2.06-.94L8.5 2.5l-.94 2.06-2.06.94zm10 10l.94 2.06.94-2.06 2.06-.94-2.06-.94-.94-2.06-.94 2.06-2.06.94z\"/><path d=\"M17.41 7.96l-1.37-1.37c-.4-.4-.92-.59-1.43-.59-.52 0-1.04.2-1.43.59L10.3 9.45l-7.72 7.72c-.78.78-.78 2.05 0 2.83L4 21.41c.39.39.9.59 1.41.59.51 0 1.02-.2 1.41-.59l7.78-7.78 2.81-2.81c.8-.78.8-2.07 0-2.86zM5.41 20L4 18.59l7.72-7.72 1.47 1.35L5.41 20z\"/>\n",
              "  </svg>\n",
              "      </button>\n",
              "      \n",
              "  <style>\n",
              "    .colab-df-container {\n",
              "      display:flex;\n",
              "      flex-wrap:wrap;\n",
              "      gap: 12px;\n",
              "    }\n",
              "\n",
              "    .colab-df-convert {\n",
              "      background-color: #E8F0FE;\n",
              "      border: none;\n",
              "      border-radius: 50%;\n",
              "      cursor: pointer;\n",
              "      display: none;\n",
              "      fill: #1967D2;\n",
              "      height: 32px;\n",
              "      padding: 0 0 0 0;\n",
              "      width: 32px;\n",
              "    }\n",
              "\n",
              "    .colab-df-convert:hover {\n",
              "      background-color: #E2EBFA;\n",
              "      box-shadow: 0px 1px 2px rgba(60, 64, 67, 0.3), 0px 1px 3px 1px rgba(60, 64, 67, 0.15);\n",
              "      fill: #174EA6;\n",
              "    }\n",
              "\n",
              "    [theme=dark] .colab-df-convert {\n",
              "      background-color: #3B4455;\n",
              "      fill: #D2E3FC;\n",
              "    }\n",
              "\n",
              "    [theme=dark] .colab-df-convert:hover {\n",
              "      background-color: #434B5C;\n",
              "      box-shadow: 0px 1px 3px 1px rgba(0, 0, 0, 0.15);\n",
              "      filter: drop-shadow(0px 1px 2px rgba(0, 0, 0, 0.3));\n",
              "      fill: #FFFFFF;\n",
              "    }\n",
              "  </style>\n",
              "\n",
              "      <script>\n",
              "        const buttonEl =\n",
              "          document.querySelector('#df-3c220566-6db4-4e7d-92c6-f397d0206e35 button.colab-df-convert');\n",
              "        buttonEl.style.display =\n",
              "          google.colab.kernel.accessAllowed ? 'block' : 'none';\n",
              "\n",
              "        async function convertToInteractive(key) {\n",
              "          const element = document.querySelector('#df-3c220566-6db4-4e7d-92c6-f397d0206e35');\n",
              "          const dataTable =\n",
              "            await google.colab.kernel.invokeFunction('convertToInteractive',\n",
              "                                                     [key], {});\n",
              "          if (!dataTable) return;\n",
              "\n",
              "          const docLinkHtml = 'Like what you see? Visit the ' +\n",
              "            '<a target=\"_blank\" href=https://colab.research.google.com/notebooks/data_table.ipynb>data table notebook</a>'\n",
              "            + ' to learn more about interactive tables.';\n",
              "          element.innerHTML = '';\n",
              "          dataTable['output_type'] = 'display_data';\n",
              "          await google.colab.output.renderOutput(dataTable, element);\n",
              "          const docLink = document.createElement('div');\n",
              "          docLink.innerHTML = docLinkHtml;\n",
              "          element.appendChild(docLink);\n",
              "        }\n",
              "      </script>\n",
              "    </div>\n",
              "  </div>\n",
              "  "
            ]
          },
          "metadata": {},
          "execution_count": 19
        }
      ]
    },
    {
      "cell_type": "code",
      "source": [
        "#-> Display the numbers of rows & columnns in the dataframe\n",
        "nRow, nCol = data.shape\n",
        "print(f'There are {nRow} rows and {nCol} columns')"
      ],
      "metadata": {
        "colab": {
          "base_uri": "https://localhost:8080/"
        },
        "id": "Hhukd0XFCGWs",
        "outputId": "e2273932-afb0-4206-8b9c-e2834156fa2f"
      },
      "execution_count": null,
      "outputs": [
        {
          "output_type": "stream",
          "name": "stdout",
          "text": [
            "There are 8708 rows and 10 columns\n"
          ]
        }
      ]
    },
    {
      "cell_type": "code",
      "source": [
        "data['date'] = data.datetime.apply(lambda x : x.split()[0])\n",
        "data['hour'] = data.datetime.apply(lambda x : x.split()[1].split(\":\")[0])\n",
        "data[\"weekday\"] = data.date.apply(lambda dateString : calendar.day_name[datetime.strptime(dateString,\"%m/%d/%Y\").weekday()])\n",
        "data[\"month\"] = data.date.apply(lambda dateString : calendar.month_name[datetime.strptime(dateString,\"%m/%d/%Y\").month])"
      ],
      "metadata": {
        "id": "N-kNMZi3Ca_E"
      },
      "execution_count": null,
      "outputs": []
    },
    {
      "cell_type": "code",
      "source": [
        "print(data.loc[1]['weekday'])\n",
        "print(data.loc[1]['hour'])\n",
        "print(data.loc[1]['month'])"
      ],
      "metadata": {
        "colab": {
          "base_uri": "https://localhost:8080/"
        },
        "id": "ILyaQQoNHWhv",
        "outputId": "c49bfb61-1648-457d-c00b-9d34d5eecdb2"
      },
      "execution_count": null,
      "outputs": [
        {
          "output_type": "stream",
          "name": "stdout",
          "text": [
            "Wednesday\n",
            "4\n",
            "September\n"
          ]
        }
      ]
    },
    {
      "cell_type": "code",
      "source": [
        "#   <--------------------QUESTION-2-------------------->"
      ],
      "metadata": {
        "id": "uLeBenVoEs2F"
      },
      "execution_count": null,
      "outputs": []
    },
    {
      "cell_type": "markdown",
      "source": [
        "Question 2: [10 Marks]\n",
        "\n",
        "Find the average number of bookings in each month across years and sort the data in descending order.\n",
        "\n",
        "Write the output of this question in 'output/output2.csv'"
      ],
      "metadata": {
        "id": "-prVfOVnEoxj"
      }
    },
    {
      "cell_type": "markdown",
      "source": [
        "#   <--------------------solution-2-------------------->\n"
      ],
      "metadata": {
        "id": "8e-xq3PjGajD"
      }
    },
    {
      "cell_type": "code",
      "source": [
        "monthAggregated = pd.DataFrame(data.groupby(\"month\")[\"Total_booking\"].mean()).reset_index()\n",
        "monthSorted = monthAggregated.sort_values(by=\"Total_booking\",ascending=False)"
      ],
      "metadata": {
        "id": "_9Kj7mBtGfMl"
      },
      "execution_count": null,
      "outputs": []
    },
    {
      "cell_type": "code",
      "source": [
        "print(monthSorted.iloc[0]['month'])\n",
        "print(monthSorted.iloc[-1]['Total_booking'])"
      ],
      "metadata": {
        "colab": {
          "base_uri": "https://localhost:8080/"
        },
        "id": "acfyl4sfHkE1",
        "outputId": "ccb9c8c2-cc5c-46fd-dd0a-38595b068d5e"
      },
      "execution_count": null,
      "outputs": [
        {
          "output_type": "stream",
          "name": "stdout",
          "text": [
            "June\n",
            "91.03318903318903\n"
          ]
        }
      ]
    },
    {
      "cell_type": "code",
      "source": [
        "#   <--------------------QUESTION-3-------------------->"
      ],
      "metadata": {
        "id": "sMODm_5_Clwg"
      },
      "execution_count": null,
      "outputs": []
    },
    {
      "cell_type": "markdown",
      "source": [
        "Question 3: [15 Marks]\n",
        "\n",
        "It has the following three tasks\n",
        "\n",
        "1) Convert all categorical variables into one-hot encoded features\n",
        "\n",
        "2) Concat one hot encoded features into original dataframe\n",
        "\n",
        "3) Remove the original columns from the dataframe.\n",
        "\n",
        " Hint: Categorical Variables are = weekday, month, season, weather\n",
        "\n",
        "Write the output of this question in 'output/output3.csv'"
      ],
      "metadata": {
        "id": "X5TdLTtcE6GC"
      }
    },
    {
      "cell_type": "markdown",
      "source": [
        "#   <--------------------solution-3-------------------->\n"
      ],
      "metadata": {
        "id": "xvZg0PLHGV1e"
      }
    },
    {
      "cell_type": "code",
      "source": [
        "categoryVariableList = [\"weekday\",\"month\",\"season\",\"weather\"]\n",
        "#Set all the columns datatype in the above list as categorical\n",
        "#write your code\n",
        "for var in categoryVariableList:\n",
        "    data[var] = data[var].astype('category')\n",
        "    \n",
        "season =pd.get_dummies(data['season'])\n",
        "data=pd.concat([data,season],axis=1)\n",
        "\n",
        "weather=pd.get_dummies(data['weather'])\n",
        "data=pd.concat([data,weather],axis=1)\n",
        "\n",
        "weekday=pd.get_dummies(data['weekday'])\n",
        "data=pd.concat([data,weekday],axis=1)\n",
        "\n",
        "month=pd.get_dummies(data['month'])\n",
        "data=pd.concat([data,month],axis=1)\n",
        "\n",
        "for var in categoryVariableList:\n",
        "    data.drop(var, axis =1 , inplace = True)\n",
        "\n",
        "print(data.shape)"
      ],
      "metadata": {
        "colab": {
          "base_uri": "https://localhost:8080/"
        },
        "id": "3KXK6NYUE3QI",
        "outputId": "f83542d8-3aaa-4c2b-91a6-8994c9c0c471"
      },
      "execution_count": null,
      "outputs": [
        {
          "output_type": "stream",
          "name": "stdout",
          "text": [
            "(8708, 37)\n"
          ]
        }
      ]
    }
  ]
}